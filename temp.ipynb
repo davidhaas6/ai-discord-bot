{
 "cells": [
  {
   "cell_type": "code",
   "execution_count": 8,
   "metadata": {},
   "outputs": [
    {
     "data": {
      "text/plain": [
       "['#FFCF00', '#FF7F50', '#F2F2F2', '#333333']"
      ]
     },
     "execution_count": 8,
     "metadata": {},
     "output_type": "execute_result"
    }
   ],
   "source": [
    "import re\n",
    "import pandas as pd\n",
    "import numpy as np\n",
    "\n",
    "rx=r\"(#([A-Z0-9])+)\"\n",
    "string=\"\"\"#FFCF00\n",
    "Accent color: #FF7F50\n",
    "Background color: #F2F2F2\n",
    "Text color: #333333\"\"\"\n",
    "\n",
    "[c for c,_ in re.findall(rx,string)]"
   ]
  },
  {
   "cell_type": "code",
   "execution_count": 18,
   "metadata": {},
   "outputs": [
    {
     "data": {
      "text/plain": [
       "2808"
      ]
     },
     "execution_count": 18,
     "metadata": {},
     "output_type": "execute_result"
    }
   ],
   "source": [
    "data = pd.read_csv('pinbot.csv')\n",
    "username='James'\n",
    "usr_msgs = data.message[data.name == username]\n",
    "prompt = [f'{username}:{msg}' for msg in usr_msgs]\n",
    "\n",
    "len('\\n'.join(prompt))"
   ]
  },
  {
   "cell_type": "code",
   "execution_count": null,
   "metadata": {},
   "outputs": [],
   "source": []
  }
 ],
 "metadata": {
  "kernelspec": {
   "display_name": "Python 3.10.7 ('venv': venv)",
   "language": "python",
   "name": "python3"
  },
  "language_info": {
   "codemirror_mode": {
    "name": "ipython",
    "version": 3
   },
   "file_extension": ".py",
   "mimetype": "text/x-python",
   "name": "python",
   "nbconvert_exporter": "python",
   "pygments_lexer": "ipython3",
   "version": "3.10.7"
  },
  "orig_nbformat": 4,
  "vscode": {
   "interpreter": {
    "hash": "00db15a16bd87f117177cde1a7f8e13212815892ad3e1ba4013a616cd15a0e83"
   }
  }
 },
 "nbformat": 4,
 "nbformat_minor": 2
}
